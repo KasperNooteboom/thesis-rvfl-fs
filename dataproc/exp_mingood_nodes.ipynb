{
 "cells": [
  {
   "cell_type": "code",
   "execution_count": null,
   "id": "postal-filling",
   "metadata": {},
   "outputs": [],
   "source": [
    "from statistics import mean, median, stdev\n",
    "import pandas as pd\n",
    "import matplotlib.pyplot as plt\n",
    "import numpy as np\n",
    "%matplotlib inline\n",
    "\n",
    "%reload_ext autoreload\n",
    "%autoreload 2"
   ]
  },
  {
   "cell_type": "code",
   "execution_count": null,
   "id": "tender-senior",
   "metadata": {},
   "outputs": [],
   "source": [
    "allalgs = [\"llsqreg\", \"ridgereg\", \"lasso\", \"sparse_encoded_lasso\", \"l1l2\", \"importance\", \"importance_corfilter\", \"stepwise\", \"mlp\"]\n",
    "algs = [\"llsqreg\", \"ridgereg\", \"lasso\", \"sparse_encoded_lasso\", \"l1l2\", \"importance\", \"importance_corfilter\", \"stepwise\"]\n",
    "algnames = [\"LLSQ\", \"Ridge Regression\", \"LASSO\", \"SE-Lasso\", \"L1L2\", \"Importance\", \"Importance*\", \"Stepwise\"]\n",
    "datasets = [\"abalone\", \"adult\", \"cancer\", \"card\", \"covtype\", \"gene\", \"glass\", \"heart\", \"horse\", \"madelon\", \"optdigits\", \"page-blocks\", \"pendigits\", \"poker\", \"satimage\", \"segmentation\", \"shuttle\", \"soybean\", \"spect\", \"thyroid\", \"vehicle\", \"waveform\"]"
   ]
  },
  {
   "cell_type": "code",
   "execution_count": null,
   "id": "7108eb46",
   "metadata": {},
   "outputs": [],
   "source": [
    "mediandf = []\n",
    "for alg in allalgs:\n",
    "    filepart = alg if alg == \"mlp\" else f\"mingood_{alg}\"\n",
    "    df = pd.read_csv(f\"../log/performance_{filepart}.txt\")[[\"run\", \"dataset\", \"nin\", \"nout\", \"time\", \"ftrain\", \"ftest\", \"atrain\", \"atest\"]]\n",
    "    df = pd.pivot_table(df, index=\"dataset\", aggfunc=median)\n",
    "    df[\"alg\"] = alg\n",
    "    mediandf.append(df)\n",
    "mediandf = pd.concat(mediandf).reset_index()"
   ]
  },
  {
   "cell_type": "code",
   "execution_count": null,
   "id": "1f20dfee",
   "metadata": {},
   "outputs": [],
   "source": [
    "ftestdf = pd.pivot(mediandf, index=\"dataset\", columns=\"alg\", values=\"ftest\")[allalgs]\n",
    "ftestrankdf = ftestdf.rank(axis=\"columns\", method=\"min\", ascending=False)\n",
    "meanrank = ftestrankdf.aggregate(mean, axis=\"index\").apply(round, args=(2,))\n",
    "meanrank.name = \"mean\"\n",
    "ftestrankdf = ftestrankdf.append(meanrank)\n",
    "ftestdf = ftestdf[algs].apply(round, args=(3,))\n",
    "ftestdf.to_csv(\"exp_mingood_nodes_ftest.csv\")\n",
    "ftestrankdf.to_csv(\"exp_mingood_nodes_ftestrank.csv\")"
   ]
  },
  {
   "cell_type": "code",
   "execution_count": null,
   "id": "55adea10",
   "metadata": {},
   "outputs": [],
   "source": [
    "timedf = pd.pivot(mediandf, index=\"dataset\", columns=\"alg\", values=\"time\")[allalgs]\n",
    "timereldf = timedf.apply(lambda s: s / s[0], axis=\"columns\")\n",
    "meantime = timedf.aggregate(mean, axis=\"index\")\n",
    "meantime.name = \"mean\"\n",
    "meanreltime = timereldf.aggregate(mean, axis=\"index\")\n",
    "meanreltime.name = \"mean\"\n",
    "timedf = timedf.append(meantime)[algs].applymap(lambda t: \"%s\" % float(\"%.4g\" % t))\n",
    "timereldf = timereldf.append(meanreltime).applymap(lambda t: \"%s\" % float(\"%.4g\" % t))\n",
    "timedf.to_csv(\"exp_mingood_nodes_time.csv\")\n",
    "timereldf.to_csv(\"exp_mingood_nodes_timerel.csv\")"
   ]
  },
  {
   "cell_type": "code",
   "execution_count": null,
   "id": "f5613557",
   "metadata": {},
   "outputs": [],
   "source": [
    "timedf.importance_corfilter.sort_values(key=pd.to_numeric)"
   ]
  }
 ],
 "metadata": {
  "interpreter": {
   "hash": "e16405ff3594d9df4eff381a91203261a2c8ac0a788c430eaec049224add292e"
  },
  "kernelspec": {
   "display_name": "PyCharm (dataproc)",
   "language": "python",
   "name": "python3"
  },
  "language_info": {
   "codemirror_mode": {
    "name": "ipython",
    "version": 3
   },
   "file_extension": ".py",
   "mimetype": "text/x-python",
   "name": "python",
   "nbconvert_exporter": "python",
   "pygments_lexer": "ipython3",
   "version": "3.9.7"
  }
 },
 "nbformat": 4,
 "nbformat_minor": 5
}

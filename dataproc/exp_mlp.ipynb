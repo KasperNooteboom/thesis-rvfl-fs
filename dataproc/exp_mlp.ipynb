{
 "cells": [
  {
   "cell_type": "code",
   "execution_count": null,
   "id": "postal-filling",
   "metadata": {},
   "outputs": [],
   "source": [
    "from matplotlib.ticker import MaxNLocator\n",
    "from statistics import mean, median, stdev\n",
    "import pandas as pd\n",
    "import matplotlib.pyplot as plt\n",
    "import numpy as np\n",
    "%matplotlib inline\n",
    "\n",
    "%reload_ext autoreload\n",
    "%autoreload 2\n",
    "\n",
    "pd.set_option('display.max_rows', None)"
   ]
  },
  {
   "cell_type": "code",
   "execution_count": null,
   "id": "tender-senior",
   "metadata": {},
   "outputs": [],
   "source": [
    "datasets = [\"abalone\", \"adult\", \"cancer\", \"card\", \"covtype\", \"gene\", \"glass\", \"heart\", \"horse\", \"madelon\", \"optdigits\", \"page-blocks\", \"pendigits\", \"poker\", \"satimage\", \"segmentation\", \"shuttle\", \"soybean\", \"spect\", \"thyroid\", \"vehicle\", \"waveform\"]\n",
    "reasons = [\"consecincrease\", \"noprogress\", \"maxiter\"]\n",
    "fullreasons = [\"$UP_4$\", \"$P_k(t) < 0.1$\", \"$t > 3000$\"]\n",
    "reasonmarkers = [\"o\", \"s\", \"d\"]"
   ]
  },
  {
   "cell_type": "code",
   "execution_count": null,
   "id": "7108eb46",
   "metadata": {},
   "outputs": [],
   "source": [
    "df = pd.read_csv(\"../log/performance_mlp.txt\")\n",
    "df[\"epochoverhead\"] = df.totalepochs - df.bestepoch\n",
    "# df = pd.pivot_table(df, index=\"dataset\", aggfunc=median)"
   ]
  },
  {
   "cell_type": "code",
   "execution_count": null,
   "id": "9b0b9081",
   "metadata": {},
   "outputs": [],
   "source": [
    "# Epoch overhead box plots\n",
    "ZOOM3000 = False\n",
    "zoomtext = \"3000\" if ZOOM3000 else \"max\"\n",
    "fig, axs = plt.subplots(22, 1, figsize=(12, 18))\n",
    "fig.tight_layout()\n",
    "boxprops = dict(color=\"b\")\n",
    "flierprops = dict(markeredgecolor=\"#D3691D\", markersize=8)\n",
    "medianprops = dict(color=\"darkred\")\n",
    "whiskerprops = dict(color=\"b\")\n",
    "axi = 0\n",
    "for dataset in datasets:\n",
    "    ax = axs[axi]\n",
    "    data = df[df.dataset ==  dataset].epochoverhead.to_list()\n",
    "    bp = ax.boxplot(data, sym=\".\", widths=.5, boxprops=boxprops, medianprops=medianprops, whiskerprops=whiskerprops, flierprops=flierprops, patch_artist=True, vert=False)\n",
    "    bp[\"boxes\"][0].set_facecolor(\"azure\")\n",
    "    ax.xaxis.set_major_locator(MaxNLocator(integer=True))\n",
    "    ax.tick_params(labelsize=12)\n",
    "    ax.set_yticklabels([dataset])\n",
    "    ax.set_xlim(left=0, right=3000) if ZOOM3000 else ax.set_xlim(left=0)\n",
    "    ax.grid(True, color=\"#DDDDDD\")\n",
    "    if axi == 21: ax.set_xlabel(\"Number of epochs\", fontsize=12)\n",
    "    axi += 1\n",
    "fig.suptitle(f\"Distributions of epoch overheads per dataset (0 to {zoomtext} zoom)\", fontsize=24)\n",
    "fig.subplots_adjust(top=0.96, hspace=0.65)\n",
    "plt.show()"
   ]
  },
  {
   "cell_type": "code",
   "execution_count": null,
   "id": "83813818",
   "metadata": {},
   "outputs": [],
   "source": [
    "# Epoch overhead scatter plot\n",
    "rlimit = 3000\n",
    "fig = plt.figure(figsize=(14, 14))\n",
    "plt.rcParams.update({\"font.size\": 13})\n",
    "dummy = plt.scatter(np.linspace(0, len(datasets), len(datasets)), list(reversed(datasets)))\n",
    "dummy.remove() # dummy is to set the correct order for the Y axis\n",
    "for r in range(3):\n",
    "    data = df[df.stopreason == reasons[r]]\n",
    "    plt.scatter(data.epochoverhead, data.dataset, c=f\"C{r}\", marker=reasonmarkers[r], s=60, alpha=0.5)\n",
    "plt.legend(fullreasons, title=\"Stopping reason\")\n",
    "plt.xlim(left = -rlimit*0.05, right = rlimit*1.05)\n",
    "plt.xlabel(\"epoch number\")\n",
    "plt.title(f\"Distributions of epoch overheads per dataset (0 to {rlimit} zoom)\", fontsize=24)\n",
    "plt.grid(True, axis=\"x\", color=\"#DDDDDD\")\n",
    "plt.show()"
   ]
  },
  {
   "cell_type": "code",
   "execution_count": null,
   "id": "6d8ce99f",
   "metadata": {},
   "outputs": [],
   "source": [
    "# Best epoch scatter plot\n",
    "rlimit = 3000\n",
    "fig = plt.figure(figsize=(14, 14))\n",
    "plt.rcParams.update({\"font.size\": 13})\n",
    "dummy = plt.scatter(np.linspace(0, len(datasets), len(datasets)), list(reversed(datasets)))\n",
    "dummy.remove() # dummy is to set the correct order for the Y axis\n",
    "for r in range(3):\n",
    "    data = df[df.stopreason == reasons[r]]\n",
    "    plt.scatter(data.bestepoch, data.dataset, c=f\"C{r}\", marker=reasonmarkers[r], s=60, alpha=0.5)\n",
    "plt.legend(fullreasons, title=\"Stopping reason\")\n",
    "plt.xlim(left = -rlimit*0.05, right = rlimit*1.05)\n",
    "plt.xlabel(\"epoch number\")\n",
    "plt.title(f\"Distributions of $t_{{best}}$ values per dataset (0 to {rlimit} zoom)\", fontsize=24)\n",
    "plt.grid(True, axis=\"x\", color=\"#DDDDDD\")\n",
    "plt.show()"
   ]
  },
  {
   "cell_type": "code",
   "execution_count": null,
   "id": "aac9a8fc",
   "metadata": {},
   "outputs": [],
   "source": [
    "meddf = pd.pivot_table(df.drop([\"stopreason\", \"nin\", \"nout\", \"run\", \"atest\", \"atrain\", \"loss\"], axis=1), index=\"dataset\", aggfunc=median)\n",
    "meddf = meddf[[\"ftrain\", \"ftest\", \"time\", \"bestepoch\", \"totalepochs\", \"epochoverhead\"]]\n",
    "fullmeddf = meddf.copy()\n",
    "meddf.ftrain = meddf.ftrain.apply(round, args=(3,))\n",
    "meddf.ftest = meddf.ftest.apply(round, args=(3,))\n",
    "meddf.time = meddf.time.apply(lambda t: \"%s\" % float(\"%.4g\" % t))\n",
    "meddf.to_csv(\"mlp_results.csv\")"
   ]
  },
  {
   "cell_type": "code",
   "execution_count": null,
   "id": "8bbfcc21",
   "metadata": {},
   "outputs": [],
   "source": [
    "llsqtime = pd.pivot_table(pd.read_csv(\"../log/performance_llsqreg.txt\")[[\"dataset\", \"time\"]], index=\"dataset\", aggfunc=median).time\n",
    "reltimes = fullmeddf.time / llsqtime\n",
    "reltimes\n",
    "# reltimes.aggregate(mean, axis=\"index\")"
   ]
  }
 ],
 "metadata": {
  "interpreter": {
   "hash": "e16405ff3594d9df4eff381a91203261a2c8ac0a788c430eaec049224add292e"
  },
  "kernelspec": {
   "display_name": "PyCharm (dataproc)",
   "language": "python",
   "name": "python3"
  },
  "language_info": {
   "codemirror_mode": {
    "name": "ipython",
    "version": 3
   },
   "file_extension": ".py",
   "mimetype": "text/x-python",
   "name": "python",
   "nbconvert_exporter": "python",
   "pygments_lexer": "ipython3",
   "version": "3.9.7"
  }
 },
 "nbformat": 4,
 "nbformat_minor": 5
}

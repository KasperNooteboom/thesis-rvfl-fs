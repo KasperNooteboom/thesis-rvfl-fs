{
 "cells": [
  {
   "cell_type": "code",
   "execution_count": null,
   "metadata": {},
   "outputs": [],
   "source": [
    "from math import log\n",
    "from statistics import mean, median, stdev\n",
    "import pandas as pd\n",
    "import matplotlib.pyplot as plt\n",
    "import numpy as np\n",
    "%matplotlib inline\n",
    "\n",
    "%reload_ext autoreload\n",
    "%autoreload 2"
   ]
  },
  {
   "cell_type": "code",
   "execution_count": null,
   "metadata": {},
   "outputs": [],
   "source": [
    "datasets = [\"abalone\", \"adult\", \"cancer\", \"card\", \"covtype\", \"gene\", \"glass\", \"heart\", \"horse\", \"madelon\", \"optdigits\", \"page-blocks\", \"pendigits\", \"poker\", \"satimage\", \"segmentation\", \"shuttle\", \"soybean\", \"spect\", \"thyroid\", \"vehicle\", \"waveform\"]\n",
    "ms = [110, 150, 5, 5, 180, 5, 5, 5, 5, 5, 175, 100, 185, 185, 180, 25, 70, 5, 150, 145, 115, 60]"
   ]
  },
  {
   "cell_type": "code",
   "execution_count": null,
   "metadata": {},
   "outputs": [],
   "source": [
    "# Difference in training time for Stepwise between mingood and 25\n",
    "mediandf = []\n",
    "for file in [\"stepwise\", \"mingood_stepwise\"]:\n",
    "    df = pd.read_csv(f\"../log/performance_{file}.txt\")[[\"dataset\", \"time\"]]\n",
    "    df = pd.pivot_table(df, index=\"dataset\", aggfunc=median)\n",
    "    mediandf.append(df)\n",
    "mediandf = pd.DataFrame({'mmingood': ms, 'time25': mediandf[0].time.to_list(), 'timemingood': mediandf[1].time.to_list()}, index=datasets)\n",
    "mediandf[\"gain\"] = mediandf.timemingood - mediandf.time25\n",
    "mediandf[\"pct\"] = (mediandf.gain / mediandf.time25 * 100)\n",
    "mediandf[\"mgain\"] = mediandf.mmingood - 25\n",
    "mediandf.time25 = mediandf.time25.map(lambda t: \"%s\" % float(\"%.4g\" % t))\n",
    "mediandf.timemingood = mediandf.timemingood.map(lambda t: \"%s\" % float(\"%.4g\" % t))\n",
    "mediandf.gain = mediandf.gain.map(lambda t: \"%s\" % float(\"%.4g\" % t))\n",
    "mediandf.pct = mediandf.pct.map(lambda p: f'{\"%s\" % float(\"%.4g\" % p)}%')\n",
    "mediandf.to_csv(\"stepwise_time_diff.csv\")\n",
    "mediandf"
   ]
  }
 ],
 "metadata": {
  "interpreter": {
   "hash": "dcb66f2d1bb468e2594df5514d339fd11ab7b25ffcfd94b541022a86cdd3c99a"
  },
  "kernelspec": {
   "display_name": "Python 3.9.7 ('base')",
   "language": "python",
   "name": "python3"
  },
  "language_info": {
   "codemirror_mode": {
    "name": "ipython",
    "version": 3
   },
   "file_extension": ".py",
   "mimetype": "text/x-python",
   "name": "python",
   "nbconvert_exporter": "python",
   "pygments_lexer": "ipython3",
   "version": "3.9.7"
  },
  "orig_nbformat": 4
 },
 "nbformat": 4,
 "nbformat_minor": 2
}

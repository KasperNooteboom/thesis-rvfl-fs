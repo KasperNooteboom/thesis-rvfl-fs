{
 "cells": [
  {
   "cell_type": "code",
   "execution_count": null,
   "metadata": {},
   "outputs": [],
   "source": [
    "import pandas as pd"
   ]
  },
  {
   "cell_type": "code",
   "execution_count": null,
   "metadata": {},
   "outputs": [],
   "source": [
    "title = \"performancecomp_mmingood\"\n",
    "# df = pd.read_csv(f\"{title}.csv\", sep=\";\", na_values=\"4-fold CV\")\n",
    "df = pd.read_csv(f\"{title}.csv\", na_values=\"4-fold CV\")\n",
    "df.set_index(df.dataset, inplace=True)"
   ]
  },
  {
   "cell_type": "code",
   "execution_count": null,
   "metadata": {},
   "outputs": [],
   "source": [
    "cor = df.corr()\n",
    "cor"
   ]
  },
  {
   "cell_type": "code",
   "execution_count": null,
   "metadata": {
    "collapsed": false,
    "pycharm": {
     "name": "#%%\n"
    }
   },
   "outputs": [],
   "source": [
    "# cor.to_csv(f\"{title}_cor.csv\", sep=\";\", decimal=\",\")\n",
    "cor.to_csv(f\"{title}_cor.csv\")"
   ]
  }
 ],
 "metadata": {
  "interpreter": {
   "hash": "f50de7c871cc02429841f3d5563c229a47e513109688a44c4d718ca57765e377"
  },
  "kernelspec": {
   "display_name": "Python 3.9.7 ('base')",
   "language": "python",
   "name": "python3"
  },
  "language_info": {
   "codemirror_mode": {
    "name": "ipython",
    "version": 3
   },
   "file_extension": ".py",
   "mimetype": "text/x-python",
   "name": "python",
   "nbconvert_exporter": "python",
   "pygments_lexer": "ipython3",
   "version": "3.9.7"
  },
  "orig_nbformat": 4
 },
 "nbformat": 4,
 "nbformat_minor": 2
}

{
 "cells": [
  {
   "cell_type": "code",
   "execution_count": null,
   "id": "postal-filling",
   "metadata": {},
   "outputs": [],
   "source": [
    "from statistics import stdev\n",
    "import pandas as pd\n",
    "import numpy as np\n",
    "import matplotlib.pyplot as plt\n",
    "%matplotlib inline\n",
    "\n",
    "%reload_ext autoreload\n",
    "%autoreload 2"
   ]
  },
  {
   "cell_type": "code",
   "execution_count": null,
   "id": "tender-senior",
   "metadata": {},
   "outputs": [],
   "source": [
    "# datasets = [\"cancer\", \"card\", \"diabetes\", \"gene\", \"glass\", \"heart\", \"horse\", \"mushroom\", \"soybean\", \"thyroid\"]\n",
    "datasets = [\"cancer\", \"card\", \"gene\", \"glass\", \"heart\", \"horse\", \"mushroom\", \"soybean\", \"thyroid\"]"
   ]
  },
  {
   "cell_type": "code",
   "execution_count": null,
   "id": "editorial-carter",
   "metadata": {},
   "outputs": [],
   "source": [
    "multi = []\n",
    "one = []\n",
    "for dataset in datasets:\n",
    "    df = pd.read_csv(f\"../../log/prelim_out_rep/out_rep_multi_{dataset}.txt\")\n",
    "    df[\"dataset\"] = dataset\n",
    "    multi.append(df)\n",
    "    df = pd.read_csv(f\"../../log/prelim_out_rep/out_rep_one_{dataset}.txt\")\n",
    "    df[\"dataset\"] = dataset\n",
    "    one.append(df)\n",
    "multi = pd.concat(multi)\n",
    "one = pd.concat(one)"
   ]
  },
  {
   "cell_type": "code",
   "execution_count": null,
   "id": "3302576c",
   "metadata": {},
   "outputs": [],
   "source": [
    "multimeans = pd.pivot_table(multi, index=\"dataset\")\n",
    "multistds = pd.pivot_table(multi, index=\"dataset\", aggfunc=stdev)\n",
    "onemeans = pd.pivot_table(one, index=\"dataset\")\n",
    "onestds = pd.pivot_table(one, index=\"dataset\", aggfunc=stdev)\n",
    "nclass = [datasets[i] + \"\\n(\" + str(multimeans.nout[i]) + \")\" for i in range(len(datasets))]"
   ]
  },
  {
   "cell_type": "code",
   "execution_count": null,
   "id": "8f8f9bfc",
   "metadata": {},
   "outputs": [],
   "source": [
    "spc = np.arange(len(datasets))\n",
    "w = 0.45\n",
    "errstyle = dict(elinewidth=1, capsize=5)\n",
    "errstyletr = dict(elinewidth=1, capsize=5, alpha=0.4)\n",
    "fig = plt.figure(figsize=(14, 9))\n",
    "plt.rcParams.update({\"font.size\": 13})\n",
    "plt.bar(spc, multimeans.ftest, width=w, label=\"One-hot (test)\", edgecolor=\"k\", yerr=multistds.ftest, error_kw=errstyle)\n",
    "plt.bar(spc, multimeans.ftrain, width=w, label=\"One-hot (train)\", edgecolor=\"k\", yerr=multistds.ftrain, alpha=0.1, error_kw=errstyletr)\n",
    "plt.bar(spc + w, onemeans.ftest, width=w, label=\"Label (test)\", edgecolor=\"k\", yerr=onestds.ftest, error_kw=errstyle)\n",
    "plt.bar(spc + w, onemeans.ftrain, width=w, label=\"Label (train)\", edgecolor=\"k\", yerr=onestds.ftrain, alpha=0.1, error_kw=errstyletr)\n",
    "plt.legend(loc=\"lower left\")\n",
    "plt.xticks(spc + w / 2, nclass)\n",
    "plt.xlabel(\"Dataset (#classes)\", fontsize=18)\n",
    "plt.ylabel(\"$F_1$-score (mean $\\pm$ stdev)\", fontsize=18)\n",
    "plt.title(\"One-hot vs label output encoding\", fontsize=24)\n",
    "# fig.savefig(\"output_representation_f1.png\")"
   ]
  }
 ],
 "metadata": {
  "kernelspec": {
   "display_name": "Python 3 (ipykernel)",
   "language": "python",
   "name": "python3"
  },
  "language_info": {
   "codemirror_mode": {
    "name": "ipython",
    "version": 3
   },
   "file_extension": ".py",
   "mimetype": "text/x-python",
   "name": "python",
   "nbconvert_exporter": "python",
   "pygments_lexer": "ipython3",
   "version": "3.8.5"
  }
 },
 "nbformat": 4,
 "nbformat_minor": 5
}

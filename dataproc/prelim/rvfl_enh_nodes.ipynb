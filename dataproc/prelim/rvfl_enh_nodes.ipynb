{
 "cells": [
  {
   "cell_type": "code",
   "execution_count": null,
   "id": "postal-filling",
   "metadata": {},
   "outputs": [],
   "source": [
    "from matplotlib.colors import LinearSegmentedColormap\n",
    "from statistics import median, stdev\n",
    "import pandas as pd\n",
    "import matplotlib.pyplot as plt\n",
    "import numpy as np\n",
    "%matplotlib inline\n",
    "\n",
    "%reload_ext autoreload\n",
    "%autoreload 2"
   ]
  },
  {
   "cell_type": "code",
   "execution_count": null,
   "id": "tender-senior",
   "metadata": {},
   "outputs": [],
   "source": [
    "datasets = [\"abalone\", \"adult\", \"cancer\", \"card\", \"covtype\", \"gene\", \"glass\", \"heart\", \"horse\", \"madelon\", \"optdigits\", \"page-blocks\", \"pendigits\", \"poker\", \"satimage\", \"segmentation\", \"shuttle\", \"soybean\", \"spect\", \"thyroid\", \"vehicle\", \"waveform\"]\n",
    "realbins = range(5, 201, 5)"
   ]
  },
  {
   "cell_type": "code",
   "execution_count": null,
   "id": "e8ea2a55",
   "metadata": {},
   "outputs": [],
   "source": [
    "def alsogood(q):\n",
    "    return lambda x: x >= q\n",
    "\n",
    "def prettify_m(ms, interval=5):\n",
    "    prevm, laststoredm, txt = None, None, None\n",
    "    strs = []\n",
    "    for i in range(len(ms)):\n",
    "        m = ms[i]\n",
    "        if prevm is None:\n",
    "            txt = f\"{m}\"\n",
    "            laststoredm = m\n",
    "        elif m != prevm + interval:\n",
    "            if laststoredm != prevm:\n",
    "                txt = f\"{txt} - {prevm}\"\n",
    "            strs.append(txt)\n",
    "            txt = f\"{m}\"\n",
    "            laststoredm = m\n",
    "        prevm = m\n",
    "        if i == len(ms) - 1:\n",
    "            if laststoredm != m:\n",
    "                txt = f\"{txt} - {m}\"\n",
    "            strs.append(txt)\n",
    "    fulltxt = \", \".join(strs)\n",
    "    return fulltxt\n"
   ]
  },
  {
   "cell_type": "code",
   "execution_count": null,
   "id": "8e96f291",
   "metadata": {},
   "outputs": [],
   "source": [
    "tobedf = []\n",
    "for dataset in datasets:\n",
    "    df = pd.read_csv(f\"../../log/prelim_rvfl_enh/rvfl_enh_{dataset}.txt\")\n",
    "    g = df.groupby(\"m\")[\"ftest\"].apply(list).reset_index(name=\"ftest\").ftest.tolist()\n",
    "    medians = [median(row) for row in g]\n",
    "    maxval = max(medians)\n",
    "    maxind = medians.index(maxval)\n",
    "    maxm = (maxind + 1) * 5\n",
    "    alsogoodinds = [i for i in range(len(medians)) if alsogood(np.percentile(g[maxind], 25))(medians[i])]\n",
    "    alsogoodvals = [medians[i] for i in alsogoodinds]\n",
    "    alsogoodms = [(ind + 1) * 5 for ind in alsogoodinds]\n",
    "    alsogoodtxt = prettify_m(alsogoodms)\n",
    "    min_good_m, min_good_val = min(alsogoodms), medians[min(alsogoodinds)]\n",
    "    tobedf.append([dataset, maxm, str(round(maxval, 3)), alsogoodtxt, min_good_m, str(round(min_good_val, 3)), alsogoodms, alsogoodvals])\n",
    "\n",
    "resultdf = pd.DataFrame(tobedf, columns=[\"dataset\", \"best_m\", \"f1_best_m\", \"also_good_pretty\", \"mingood_m\", \"f1_mingood_m\", \"also_good_ms\", \"also_good_medians\"])\n",
    "resultdf.to_csv(\"rvfl_enh_nodes.csv\")"
   ]
  },
  {
   "cell_type": "code",
   "execution_count": null,
   "id": "d26d5986",
   "metadata": {
    "collapsed": false,
    "pycharm": {
     "name": "#%%\n"
    }
   },
   "outputs": [],
   "source": [
    "cm = LinearSegmentedColormap.from_list(\"BlueRed\", [(0.0, \"blue\"), (1.0, \"red\")])\n",
    "colors = [cm((x - min(realbins)) / (max(realbins) - min(realbins))) for x in realbins]\n",
    "fig = plt.figure(figsize=(14, 7))\n",
    "_, _, patches = plt.hist(resultdf.best_m, bins=np.arange(5, 206, 5)-2.5, edgecolor=\"k\")\n",
    "for c, p in zip(colors, patches):\n",
    "    plt.setp(p, \"facecolor\", c)\n",
    "plt.xticks(realbins, rotation=\"vertical\")\n",
    "plt.xlim([-2.5, 207.5])\n",
    "plt.xlabel(\"Number of enhancement nodes $m$\", fontsize=18)\n",
    "plt.ylabel(\"Number of datasets for which $m$ is optimal\", fontsize=18)\n",
    "plt.title(\"Distribution of optimal $m$ values per dataset\", fontsize=24)\n",
    "plt.grid(True, axis=\"y\", color=\"k\", alpha=0.2)\n",
    "plt.show()"
   ]
  },
  {
   "cell_type": "code",
   "execution_count": null,
   "id": "18577f26",
   "metadata": {
    "collapsed": false,
    "pycharm": {
     "name": "#%%\n"
    }
   },
   "outputs": [],
   "source": [
    "goodms = np.concatenate(resultdf.also_good_ms).flat\n",
    "fig = plt.figure(figsize=(14, 7))\n",
    "_, _, patches = plt.hist(goodms, bins=np.arange(5, 206, 5)-2.5, edgecolor=\"k\")\n",
    "for c, p in zip(colors, patches):\n",
    "    plt.setp(p, \"facecolor\", c)\n",
    "plt.xticks(realbins, rotation=\"vertical\")\n",
    "plt.xlim([-2.5, 207.5])\n",
    "plt.xlabel(\"Number of enhancement nodes $m$\", fontsize=18)\n",
    "plt.ylabel(\"Number of datasets for which $m$ is good\", fontsize=18)\n",
    "plt.title(\"Distribution of good $m$ values per dataset\", fontsize=24)\n",
    "plt.grid(True, axis=\"y\", color=\"k\", alpha=0.2)\n",
    "plt.show()"
   ]
  },
  {
   "cell_type": "code",
   "execution_count": null,
   "id": "47ae5fd4",
   "metadata": {},
   "outputs": [],
   "source": [
    "fig = plt.figure(figsize=(14, 7))\n",
    "_, _, patches = plt.hist(resultdf.mingood_m, bins=np.arange(5, 206, 5)-2.5, edgecolor=\"k\")\n",
    "for c, p in zip(colors, patches):\n",
    "    plt.setp(p, \"facecolor\", c)\n",
    "plt.xticks(realbins, rotation=\"vertical\")\n",
    "plt.xlim([-2.5, 207.5])\n",
    "plt.xlabel(\"Number of enhancement nodes $m$\", fontsize=18)\n",
    "plt.ylabel(\"Number of datasets for which $m$ is minimal while good\", fontsize=14)\n",
    "plt.title(\"Distribution of minimal good $m$ values per dataset\", fontsize=24)\n",
    "plt.grid(True, axis=\"y\", color=\"k\", alpha=0.2)\n",
    "plt.show()"
   ]
  },
  {
   "cell_type": "code",
   "execution_count": null,
   "id": "editorial-carter",
   "metadata": {},
   "outputs": [],
   "source": [
    "fig, axs = plt.subplots(4, 2, figsize=(14, 40/11*4))\n",
    "fig.tight_layout()\n",
    "boxprops = dict(color=\"b\")\n",
    "flierprops = dict(markeredgecolor=\"#D3691D\", markersize=5)\n",
    "medianprops = dict(color=\"darkred\")\n",
    "whiskerprops = dict(color=\"b\")\n",
    "axi = 0\n",
    "for dataset in datasets[0:8]:\n",
    "    ax = axs.flat[axi]\n",
    "    df = pd.read_csv(f\"../../log/prelim_rvfl_enh/rvfl_enh_{dataset}.txt\")\n",
    "    g = df.groupby(\"m\")[\"ftest\"].apply(list).reset_index(name=\"ftest\").ftest.tolist()\n",
    "    bp = ax.boxplot(g, sym=\".\", boxprops=boxprops, medianprops=medianprops, whiskerprops=whiskerprops, flierprops=flierprops, patch_artist=True)\n",
    "    for box in bp[\"boxes\"]: box.set_facecolor(\"azure\")\n",
    "    ax.set_xticklabels(realbins, rotation=\"vertical\")\n",
    "    ax.set_title(f\"{dataset} dataset\", fontsize=14)\n",
    "    ax.grid(True, color=\"#DDDDDD\")\n",
    "    sps = ax.get_subplotspec()\n",
    "    if sps.is_first_col(): ax.set_ylabel(\"$F_1$-score\")\n",
    "    if sps.is_last_row(): ax.set_xlabel(\"number of enhancement nodes\")\n",
    "    axi += 1\n",
    "\n",
    "plt.subplots_adjust(top=0.93, hspace=0.25)\n",
    "fig.suptitle(\"$F_1$-scores of RVFL-nets containing different numbers of enhancement nodes (part 1 of 3)\", fontsize=20)"
   ]
  },
  {
   "cell_type": "code",
   "execution_count": null,
   "id": "408c10bc",
   "metadata": {},
   "outputs": [],
   "source": [
    "fig, axs = plt.subplots(4, 2, figsize=(14, 40/11*4))\n",
    "fig.tight_layout()\n",
    "axi = 0\n",
    "for dataset in datasets[8:16]:\n",
    "    ax = axs.flat[axi]\n",
    "    df = pd.read_csv(f\"../../log/prelim_rvfl_enh/rvfl_enh_{dataset}.txt\")\n",
    "    g = df.groupby(\"m\")[\"ftest\"].apply(list).reset_index(name=\"ftest\").ftest.tolist()\n",
    "    bp = ax.boxplot(g, sym=\".\", boxprops=boxprops, medianprops=medianprops, whiskerprops=whiskerprops, flierprops=flierprops, patch_artist=True)\n",
    "    for box in bp[\"boxes\"]: box.set_facecolor(\"azure\")\n",
    "    ax.set_xticklabels(realbins, rotation=\"vertical\")\n",
    "    ax.set_title(f\"{dataset} dataset\", fontsize=14)\n",
    "    ax.grid(True, color=\"#DDDDDD\")\n",
    "    sps = ax.get_subplotspec()\n",
    "    if sps.is_first_col(): ax.set_ylabel(\"$F_1$-score\")\n",
    "    if sps.is_last_row(): ax.set_xlabel(\"number of enhancement nodes\")\n",
    "    axi += 1\n",
    "\n",
    "plt.subplots_adjust(top=0.93, hspace=0.25)\n",
    "fig.suptitle(\"$F_1$-scores of RVFL-nets containing different numbers of enhancement nodes (part 2 of 3)\", fontsize=20)"
   ]
  },
  {
   "cell_type": "code",
   "execution_count": null,
   "id": "76116482",
   "metadata": {},
   "outputs": [],
   "source": [
    "fig, axs = plt.subplots(3, 2, figsize=(14, 40/11*3))\n",
    "fig.tight_layout()\n",
    "axi = 0\n",
    "for dataset in datasets[16:22]:\n",
    "    ax = axs.flat[axi]\n",
    "    df = pd.read_csv(f\"../../log/prelim_rvfl_enh/rvfl_enh_{dataset}.txt\")\n",
    "    g = df.groupby(\"m\")[\"ftest\"].apply(list).reset_index(name=\"ftest\").ftest.tolist()\n",
    "    bp = ax.boxplot(g, sym=\".\", boxprops=boxprops, medianprops=medianprops, whiskerprops=whiskerprops, flierprops=flierprops, patch_artist=True)\n",
    "    for box in bp[\"boxes\"]: box.set_facecolor(\"azure\")\n",
    "    ax.set_xticklabels(realbins, rotation=\"vertical\")\n",
    "    ax.set_title(f\"{dataset} dataset\", fontsize=14)\n",
    "    ax.grid(True, color=\"#DDDDDD\")\n",
    "    sps = ax.get_subplotspec()\n",
    "    if sps.is_first_col(): ax.set_ylabel(\"$F_1$-score\")\n",
    "    if sps.is_last_row(): ax.set_xlabel(\"number of enhancement nodes\")\n",
    "    axi += 1\n",
    "\n",
    "plt.subplots_adjust(top=0.91, hspace=0.25)\n",
    "fig.suptitle(\"$F_1$-scores of RVFL-nets containing different numbers of enhancement nodes (part 3 of 3)\", fontsize=20)"
   ]
  },
  {
   "cell_type": "code",
   "execution_count": null,
   "id": "881cc5a1",
   "metadata": {},
   "outputs": [],
   "source": [
    "mediandf = []\n",
    "for dataset in datasets:\n",
    "    df = pd.read_csv(f\"../../log/prelim_rvfl_enh/rvfl_enh_{dataset}.txt\")\n",
    "    g = df.groupby(\"m\")[\"ftest\"].median()\n",
    "    mediandf.append(g)\n",
    "mediandf = pd.concat(mediandf, axis=\"columns\")\n",
    "mediandf.columns = datasets\n",
    "fig = plt.figure(figsize=(14, 9))\n",
    "plt.plot(mediandf, \".-\")\n",
    "plt.xlim(0, 205)\n",
    "plt.ylim(0, 1)\n",
    "plt.legend(datasets, ncol=2, framealpha=0.3, loc=(0.14, 0.01))\n",
    "plt.title(\"$F_1$-scores per $m$ value for each dataset\", fontsize=24)\n",
    "plt.xlabel(\"Number of enhancement nodes $m$\", fontsize=18)\n",
    "plt.ylabel(\"$F_1$-score (median)\", fontsize=18)"
   ]
  }
 ],
 "metadata": {
  "interpreter": {
   "hash": "e16405ff3594d9df4eff381a91203261a2c8ac0a788c430eaec049224add292e"
  },
  "kernelspec": {
   "display_name": "PyCharm (dataproc)",
   "language": "python",
   "name": "python3"
  },
  "language_info": {
   "codemirror_mode": {
    "name": "ipython",
    "version": 3
   },
   "file_extension": ".py",
   "mimetype": "text/x-python",
   "name": "python",
   "nbconvert_exporter": "python",
   "pygments_lexer": "ipython3",
   "version": "3.9.7"
  }
 },
 "nbformat": 4,
 "nbformat_minor": 5
}

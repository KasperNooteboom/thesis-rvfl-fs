{
 "cells": [
  {
   "cell_type": "code",
   "execution_count": null,
   "id": "postal-filling",
   "metadata": {},
   "outputs": [],
   "source": [
    "from statistics import stdev\n",
    "import pandas as pd\n",
    "import numpy as np\n",
    "import matplotlib.pyplot as plt\n",
    "%matplotlib inline\n",
    "\n",
    "%reload_ext autoreload\n",
    "%autoreload 2"
   ]
  },
  {
   "cell_type": "code",
   "execution_count": null,
   "id": "tender-senior",
   "metadata": {},
   "outputs": [],
   "source": [
    "datasets = [\"cancer\", \"card\", \"gene\", \"glass\", \"heart\", \"horse\", \"mushroom\", \"soybean\", \"thyroid\"]"
   ]
  },
  {
   "cell_type": "code",
   "execution_count": null,
   "id": "editorial-carter",
   "metadata": {},
   "outputs": [],
   "source": [
    "uniform = pd.read_csv(f\"../../log/prelim_rvfl_init/rvfl_uniform.txt\")\n",
    "normal = pd.read_csv(f\"../../log/prelim_rvfl_init/rvfl_normal.txt\")"
   ]
  },
  {
   "cell_type": "code",
   "execution_count": null,
   "id": "3302576c",
   "metadata": {},
   "outputs": [],
   "source": [
    "unimeans = pd.pivot_table(uniform, index=\"dataset\")\n",
    "unistds = pd.pivot_table(uniform, index=\"dataset\", aggfunc=stdev)\n",
    "normmeans = pd.pivot_table(normal, index=\"dataset\")\n",
    "normstds = pd.pivot_table(normal, index=\"dataset\", aggfunc=stdev)\n",
    "nclass = [datasets[i] + \"\\n(\" + str(unimeans.nout[i]) + \")\" for i in range(len(datasets))]"
   ]
  },
  {
   "cell_type": "code",
   "execution_count": null,
   "id": "8f8f9bfc",
   "metadata": {},
   "outputs": [],
   "source": [
    "spc = np.arange(len(datasets))\n",
    "w = 0.45\n",
    "errstyle = dict(elinewidth=1, capsize=5)\n",
    "errstyletr = dict(elinewidth=1, capsize=5, alpha=0.4)\n",
    "fig = plt.figure(figsize=(14, 9))\n",
    "plt.rcParams.update({\"font.size\": 13})\n",
    "plt.bar(spc, unimeans.ftest, width=w, label=\"Uniform (test)\", edgecolor=\"k\", yerr=unistds.ftest, error_kw=errstyle)\n",
    "plt.bar(spc, unimeans.ftrain, width=w, label=\"Uniform (train)\", edgecolor=\"k\", yerr=unistds.ftrain, alpha=0.1, error_kw=errstyletr)\n",
    "plt.bar(spc + w, normmeans.ftest, width=w, label=\"Normal (test)\", edgecolor=\"k\", yerr=normstds.ftest, error_kw=errstyle)\n",
    "plt.bar(spc + w, normmeans.ftrain, width=w, label=\"Normal (train)\", edgecolor=\"k\", yerr=normstds.ftrain, alpha=0.1, error_kw=errstyletr)\n",
    "plt.legend(loc=\"lower left\")\n",
    "plt.xticks(spc + w / 2, nclass)\n",
    "plt.xlabel(\"Dataset (#classes)\", fontsize=18)\n",
    "plt.ylabel(\"$F_1$-score (mean $\\pm$ stdev)\", fontsize=18)\n",
    "plt.title(\"Uniform vs normal RVFL weight initialization\", fontsize=24)"
   ]
  }
 ],
 "metadata": {
  "kernelspec": {
   "display_name": "Python 3 (ipykernel)",
   "language": "python",
   "name": "python3"
  },
  "language_info": {
   "codemirror_mode": {
    "name": "ipython",
    "version": 3
   },
   "file_extension": ".py",
   "mimetype": "text/x-python",
   "name": "python",
   "nbconvert_exporter": "python",
   "pygments_lexer": "ipython3",
   "version": "3.8.12"
  }
 },
 "nbformat": 4,
 "nbformat_minor": 5
}

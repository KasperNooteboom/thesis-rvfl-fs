{
 "cells": [
  {
   "cell_type": "code",
   "execution_count": null,
   "id": "postal-filling",
   "metadata": {},
   "outputs": [],
   "source": [
    "from scipy.stats import ttest_rel, ttest_ind\n",
    "from statistics import stdev\n",
    "import pandas as pd\n",
    "import numpy as np\n",
    "import matplotlib.pyplot as plt\n",
    "%matplotlib inline\n",
    "\n",
    "%reload_ext autoreload\n",
    "%autoreload 2"
   ]
  },
  {
   "cell_type": "code",
   "execution_count": null,
   "id": "tender-senior",
   "metadata": {},
   "outputs": [],
   "source": [
    "datasets = [\"cancer\", \"card\", \"gene\", \"glass\", \"heart\", \"horse\", \"mushroom\", \"soybean\", \"thyroid\"]"
   ]
  },
  {
   "cell_type": "code",
   "execution_count": null,
   "id": "editorial-carter",
   "metadata": {},
   "outputs": [],
   "source": [
    "uniform = pd.read_csv(\"../../log/prelim_ga/ga_uniform_preliminary.txt\")\n",
    "twopoint = pd.read_csv(\"../../log/prelim_ga/ga_twopoint_preliminary.txt\")"
   ]
  },
  {
   "cell_type": "code",
   "execution_count": null,
   "id": "d5d5cacb",
   "metadata": {},
   "outputs": [],
   "source": [
    "diffsf1 = []\n",
    "diffstime = []\n",
    "for dataset in datasets:\n",
    "    unif1 = uniform[uniform.dataset == dataset].ftest\n",
    "    twof1 = twopoint[twopoint.dataset == dataset].ftest\n",
    "    stat, pval = ttest_rel(unif1, twof1)\n",
    "    if stat == 0 or np.isnan(stat):\n",
    "        diffsf1.append(\"equal\")\n",
    "    elif stat > 0:\n",
    "        diffsf1.append(f\"Uniform, {pval < 0.05}\")\n",
    "    else:\n",
    "        diffsf1.append(f\"Two-point, {pval < 0.05}\")\n",
    "    unitime = uniform[uniform.dataset == dataset].time\n",
    "    twotime = twopoint[twopoint.dataset == dataset].time\n",
    "    stat, pval = ttest_rel(unitime, twotime)\n",
    "    if stat == 0 or np.isnan(stat):\n",
    "        diffstime.append(\"equal\")\n",
    "    elif stat < 0:\n",
    "        diffstime.append(f\"Uniform, {pval < 0.05}\")\n",
    "    else:\n",
    "        diffstime.append(f\"Two-point, {pval < 0.05}\")\n",
    "\n",
    "diffs = pd.DataFrame(np.array([diffsf1, diffstime]).T, index=datasets, columns=[\"f1\", \"time\"])\n",
    "diffs.to_csv(\"ga_ux-vs-2x.csv\")"
   ]
  },
  {
   "cell_type": "code",
   "execution_count": null,
   "id": "3302576c",
   "metadata": {},
   "outputs": [],
   "source": [
    "unimeans = pd.pivot_table(uniform.drop(columns=[\"sel\"]), index=\"dataset\")\n",
    "unistds = pd.pivot_table(uniform.drop(columns=[\"sel\"]), index=\"dataset\", aggfunc=stdev)\n",
    "twomeans = pd.pivot_table(twopoint.drop(columns=[\"sel\"]), index=\"dataset\")\n",
    "twostds = pd.pivot_table(twopoint.drop(columns=[\"sel\"]), index=\"dataset\", aggfunc=stdev)\n",
    "nclass = [datasets[i] + \"\\n(\" + str(unimeans.nin[i]) + \"-\" + str(unimeans.nout[i]) + \")\" for i in range(len(datasets))]"
   ]
  },
  {
   "cell_type": "code",
   "execution_count": null,
   "id": "8f8f9bfc",
   "metadata": {},
   "outputs": [],
   "source": [
    "spc = np.arange(len(datasets))\n",
    "w = 0.45\n",
    "errstyle = dict(elinewidth=1, capsize=5)\n",
    "errstyletr = dict(elinewidth=1, capsize=5, alpha=0.4)\n",
    "fig = plt.figure(figsize=(12, 7))\n",
    "plt.rcParams.update({\"font.size\": 13})\n",
    "plt.bar(spc, unimeans.ftest, width=w, label=\"UX (test)\", edgecolor=\"k\", yerr=unistds.ftest, error_kw=errstyle)\n",
    "plt.bar(spc, unimeans.ftrain, width=w, label=\"UX (train)\", edgecolor=\"k\", yerr=unistds.ftrain, alpha=0.1, error_kw=errstyletr)\n",
    "plt.bar(spc + w, twomeans.ftest, width=w, label=\"2X (test)\", edgecolor=\"k\", yerr=twostds.ftest, error_kw=errstyle)\n",
    "plt.bar(spc + w, twomeans.ftrain, width=w, label=\"2X (train)\", edgecolor=\"k\", yerr=twostds.ftrain, alpha=0.1, error_kw=errstyletr)\n",
    "plt.legend(loc=\"lower left\")\n",
    "plt.xticks(spc + w / 2, nclass)\n",
    "plt.xlabel(\"Dataset (#features - #classes)\", fontsize=18)\n",
    "plt.ylabel(\"$F_1$-score (mean $\\pm$ stdev)\", fontsize=18)\n",
    "plt.title(\"Uniform crossover vs Two-point crossover in GA - $F_1$\", fontsize=24)"
   ]
  },
  {
   "cell_type": "code",
   "execution_count": null,
   "id": "aeee008b",
   "metadata": {},
   "outputs": [],
   "source": [
    "fig = plt.figure(figsize=(12, 7))\n",
    "plt.rcParams.update({\"font.size\": 13})\n",
    "plt.bar(spc, unimeans.time, width=w, label=\"UX\", edgecolor=\"k\", yerr=unistds.time, error_kw=errstyle)\n",
    "plt.bar(spc + w, twomeans.time, width=w, label=\"2X\", edgecolor=\"k\", color=\"C2\", yerr=twostds.time, error_kw=errstyle)\n",
    "plt.legend(loc=\"upper left\")\n",
    "plt.xticks(spc + w / 2, nclass)\n",
    "plt.xlabel(\"Dataset (#features - #classes)\", fontsize=18)\n",
    "plt.ylabel(\"Time in seconds (mean $\\pm$ stdev)\", fontsize=18)\n",
    "plt.title(\"Uniform crossover vs Two-point crossover in GA - training time\", fontsize=24)"
   ]
  },
  {
   "cell_type": "code",
   "execution_count": null,
   "id": "88d954b0",
   "metadata": {},
   "outputs": [],
   "source": [
    "unimeans, unistds, twomeans, twostds = map(lambda x: x[x.index != \"gene\"], [unimeans, unistds, twomeans, twostds])\n",
    "if datasets[2] == \"gene\":\n",
    "    del datasets[2]\n",
    "    del nclass[2]\n",
    "spc = np.arange(len(datasets))\n",
    "fig = plt.figure(figsize=(12, 7))\n",
    "plt.rcParams.update({\"font.size\": 13})\n",
    "plt.bar(spc, unimeans.time, width=w, label=\"UX\", edgecolor=\"k\", yerr=unistds.time, error_kw=errstyle)\n",
    "plt.bar(spc + w, twomeans.time, width=w, label=\"2X\", edgecolor=\"k\", color=\"C2\", yerr=twostds.time, error_kw=errstyle)\n",
    "plt.legend(loc=\"upper left\")\n",
    "plt.xticks(spc + w / 2, nclass)\n",
    "plt.xlabel(\"Dataset (#features - #classes)\", fontsize=18)\n",
    "plt.ylabel(\"Time in seconds (mean $\\pm$ stdev)\", fontsize=18)\n",
    "plt.title(\"Uniform crossover vs Two-point crossover in GA - training time\", fontsize=24)"
   ]
  }
 ],
 "metadata": {
  "kernelspec": {
   "display_name": "Python 3 (ipykernel)",
   "language": "python",
   "name": "python3"
  },
  "language_info": {
   "codemirror_mode": {
    "name": "ipython",
    "version": 3
   },
   "file_extension": ".py",
   "mimetype": "text/x-python",
   "name": "python",
   "nbconvert_exporter": "python",
   "pygments_lexer": "ipython3",
   "version": "3.8.5"
  }
 },
 "nbformat": 4,
 "nbformat_minor": 5
}

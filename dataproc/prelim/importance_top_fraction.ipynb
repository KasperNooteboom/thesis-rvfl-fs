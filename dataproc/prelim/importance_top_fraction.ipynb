{
 "cells": [
  {
   "cell_type": "code",
   "execution_count": null,
   "id": "postal-filling",
   "metadata": {},
   "outputs": [],
   "source": [
    "from statistics import stdev\n",
    "import pandas as pd\n",
    "import matplotlib.pyplot as plt\n",
    "%matplotlib inline\n",
    "\n",
    "%reload_ext autoreload\n",
    "%autoreload 2"
   ]
  },
  {
   "cell_type": "code",
   "execution_count": null,
   "id": "tender-senior",
   "metadata": {},
   "outputs": [],
   "source": [
    "datasets = [\"cancer\", \"card\", \"gene\", \"glass\", \"heart\", \"horse\", \"mushroom\", \"soybean\", \"thyroid\"]\n",
    "train_alpha = 0.3"
   ]
  },
  {
   "cell_type": "code",
   "execution_count": null,
   "id": "622a80e7",
   "metadata": {},
   "outputs": [],
   "source": [
    "# With enhanced%\n",
    "fig, axs = plt.subplots(3, 3, figsize=(10, 11))\n",
    "fig.tight_layout()\n",
    "axi = 0\n",
    "for dataset in datasets:\n",
    "    ax = axs.flat[axi]\n",
    "    df = pd.read_csv(f\"../../log/prelim_imp_top/imp_top_{dataset}.txt\")\n",
    "    df[\"frac_enhanced\"] = df.nenhanced / df.nsel\n",
    "    means = pd.pivot_table(df, index=\"nsel\")\n",
    "    stds = pd.pivot_table(df, index=\"nsel\", aggfunc=stdev)\n",
    "    x = means.index / means.nin\n",
    "    f1test = ax.plot(x, means.ftest, label=\"$F_1$ (test)\", color=\"C0\")\n",
    "    ax.fill_between(x, means.ftest - stds.ftest, means.ftest + stds.ftest, color=\"C0\", alpha=0.1)\n",
    "    f1train = ax.plot(x, means.ftrain, label=\"$F_1$ (train)\", color=\"C1\", alpha=train_alpha)\n",
    "    ax.fill_between(x, means.ftrain - stds.ftrain, means.ftrain + stds.ftrain, color=\"C1\", alpha=0.1*train_alpha*1.5)\n",
    "    ax2 = ax.twinx()\n",
    "    enhanced = ax2.plot(x, means.frac_enhanced, label=\"enhanced%\", color=\"k\")\n",
    "    ax2.fill_between(x, means.frac_enhanced - stds.frac_enhanced, means.frac_enhanced + stds.frac_enhanced, color=\"k\", alpha = 0.1)\n",
    "    lns = f1train + f1test + enhanced\n",
    "    labs = [l.get_label() for l in lns]\n",
    "    ax.legend(lns, labs, loc=\"upper right\")\n",
    "    ax.set_title(f\"{dataset} dataset\")\n",
    "    ax.set_xlim([0, 1])\n",
    "    ax.set_ylim([0, 1])\n",
    "    ax2.set_ylim([0, 1])\n",
    "    ax.set(xlabel=\"Fraction of features selected\", ylabel=\"$F_1$-score\")\n",
    "    ax2.set_ylabel(\"% of selected features is enhanced\")\n",
    "    ax.label_outer()\n",
    "    ax2.label_outer()\n",
    "    axi += 1\n",
    "\n",
    "plt.subplots_adjust(top=0.92)\n",
    "fig.suptitle(\"$F_1$-scores of features selected by importance scores\", fontsize=20)"
   ]
  },
  {
   "cell_type": "code",
   "execution_count": null,
   "id": "editorial-carter",
   "metadata": {},
   "outputs": [],
   "source": [
    "# Without enhanced%\n",
    "fig, axs = plt.subplots(3, 3, figsize=(10, 11))\n",
    "fig.tight_layout()\n",
    "axi = 0\n",
    "for dataset in datasets:\n",
    "    ax = axs.flat[axi]\n",
    "    df = pd.read_csv(f\"../../log/prelim_imp_top/imp_top_{dataset}.txt\")\n",
    "    means = pd.pivot_table(df, index=\"nsel\")\n",
    "    stds = pd.pivot_table(df, index=\"nsel\", aggfunc=stdev)\n",
    "    x = means.index / means.nin\n",
    "    f1test = ax.plot(x, means.ftest, label=\"$F_1$ (test)\", color=\"C0\")\n",
    "    ax.fill_between(x, means.ftest - stds.ftest, means.ftest + stds.ftest, color=\"C0\", alpha = 0.1)\n",
    "    f1train = ax.plot(x, means.ftrain, label=\"$F_1$ (train)\", color=\"C1\", alpha=train_alpha)\n",
    "    ax.fill_between(x, means.ftrain - stds.ftrain, means.ftrain + stds.ftrain, color=\"C1\", alpha = 0.1*train_alpha*1.5)\n",
    "    ax.legend(loc=\"lower right\")\n",
    "    ax.set_title(f\"{dataset} dataset\")\n",
    "    ax.set_xlim([0, 1])\n",
    "    # ax.set_ylim([0, 1])\n",
    "    sps = ax.get_subplotspec()\n",
    "    if sps.is_first_col():\n",
    "        ax.set_ylabel(\"$F_1$-score (mean $\\pm$ stdev)\")\n",
    "    if sps.is_last_row():\n",
    "        ax.set_xlabel(\"Fraction of features selected\")\n",
    "    axi += 1\n",
    "\n",
    "plt.subplots_adjust(top=0.92, hspace=0.20)\n",
    "fig.suptitle(\"$F_1$-scores of features selected by importance scores\", fontsize=20)"
   ]
  }
 ],
 "metadata": {
  "kernelspec": {
   "display_name": "Python 3 (ipykernel)",
   "language": "python",
   "name": "python3"
  },
  "language_info": {
   "codemirror_mode": {
    "name": "ipython",
    "version": 3
   },
   "file_extension": ".py",
   "mimetype": "text/x-python",
   "name": "python",
   "nbconvert_exporter": "python",
   "pygments_lexer": "ipython3",
   "version": "3.8.5"
  }
 },
 "nbformat": 4,
 "nbformat_minor": 5
}

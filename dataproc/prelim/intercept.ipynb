{
 "cells": [
  {
   "cell_type": "code",
   "execution_count": null,
   "id": "postal-filling",
   "metadata": {},
   "outputs": [],
   "source": [
    "from scipy.stats import ttest_rel, ttest_ind\n",
    "from statistics import mean, stdev\n",
    "import pandas as pd\n",
    "import numpy as np\n",
    "import matplotlib.pyplot as plt\n",
    "%matplotlib inline\n",
    "\n",
    "%reload_ext autoreload\n",
    "%autoreload 2"
   ]
  },
  {
   "cell_type": "code",
   "execution_count": null,
   "id": "tender-senior",
   "metadata": {},
   "outputs": [],
   "source": [
    "# datasets = [\"cancer\", \"card\", \"diabetes\", \"gene\", \"glass\", \"heart\", \"horse\", \"mushroom\", \"soybean\", \"thyroid\"]\n",
    "datasets = [\"cancer\", \"card\", \"gene\", \"glass\", \"heart\", \"horse\", \"mushroom\", \"soybean\", \"thyroid\"]\n",
    "regressors = [\"importance\", \"importance_corfilter\", \"inipg\", \"l1l2\", \"lasso\", \"sparse_encoded_lasso\", \"stepwise\"]\n",
    "regressor_names = [\"Importance scores\", \"Importance scores with correlation filtering\", \"IniPG\", \"L1-L2-Hybrid Regularization\", \"LASSO\", \"Sparse Encoded LASSO\", \"Stepwise Regression\"]"
   ]
  },
  {
   "cell_type": "code",
   "execution_count": null,
   "id": "editorial-carter",
   "metadata": {},
   "outputs": [],
   "source": [
    "withi = []\n",
    "withouti = []\n",
    "for r in regressors:\n",
    "    df = pd.read_csv(f\"../../log/prelim_intercept/intercept_{r}_with.txt\")\n",
    "    withi.append(df)\n",
    "    df = pd.read_csv(f\"../../log/prelim_intercept/intercept_{r}_without.txt\")\n",
    "    withouti.append(df)"
   ]
  },
  {
   "cell_type": "code",
   "execution_count": null,
   "id": "3302576c",
   "metadata": {},
   "outputs": [],
   "source": [
    "withmeans = [pd.pivot_table(df, index=\"dataset\") for df in withi]\n",
    "withstds = [pd.pivot_table(df, index=\"dataset\", aggfunc=stdev) for df in withi]\n",
    "withoutmeans = [pd.pivot_table(df, index=\"dataset\") for df in withouti]\n",
    "withoutstds = [pd.pivot_table(df, index=\"dataset\", aggfunc=stdev) for df in withouti]\n",
    "nclass = [datasets[i] + \"\\n(\" + str(withmeans[0].nout[i]) + \")\" for i in range(len(datasets))]"
   ]
  },
  {
   "cell_type": "code",
   "execution_count": null,
   "id": "8f8f9bfc",
   "metadata": {},
   "outputs": [],
   "source": [
    "spc = np.arange(len(datasets))\n",
    "w = 0.45\n",
    "errstyle = dict(elinewidth=1, capsize=5)\n",
    "errstyletr = dict(elinewidth=1, capsize=5, alpha=0.4)\n",
    "fig, axs = plt.subplots(2, 2, figsize=(18, 14))\n",
    "fig.tight_layout()\n",
    "plt.rcParams.update({\"font.size\": 13})\n",
    "for i in range(4):\n",
    "    ax = axs.flat[i]\n",
    "    wm = withmeans[i]\n",
    "    ws = withstds[i]\n",
    "    wom = withoutmeans[i]\n",
    "    wos = withoutstds[i]\n",
    "    ax.bar(spc, wm.ftest, width=w, label=\"With intercept (test)\", edgecolor=\"k\", yerr=ws.ftest, error_kw=errstyle)\n",
    "    ax.bar(spc, wm.ftrain, width=w, label=\"With intercept (train)\", edgecolor=\"k\", yerr=ws.ftrain, alpha=0.1, error_kw=errstyletr)\n",
    "    ax.bar(spc + w, wom.ftest, width=w, label=\"Without intercept (test)\", edgecolor=\"k\", yerr=wos.ftest, error_kw=errstyle)\n",
    "    ax.bar(spc + w, wom.ftrain, width=w, label=\"Without intercept (train)\", edgecolor=\"k\", yerr=wos.ftrain, alpha=0.1, error_kw=errstyletr)\n",
    "    ax.legend(loc=\"lower left\")\n",
    "    ax.set_xticks(spc + w / 2, nclass)\n",
    "    sps = ax.get_subplotspec()\n",
    "    if sps.is_last_row(): ax.set_xlabel(\"Dataset (#classes)\", fontsize=18)\n",
    "    if sps.is_first_col(): ax.set_ylabel(\"$F_1$-score (mean $\\pm$ stdev)\", fontsize=18)\n",
    "    ax.set_title(regressor_names[i])\n",
    "\n",
    "plt.subplots_adjust(top=0.92, hspace=0.22)\n",
    "fig.suptitle(f\"F1-scores of FS methods with vs without intercept\\n(part 1 of 2)\", fontsize=22)"
   ]
  },
  {
   "cell_type": "code",
   "execution_count": null,
   "id": "5d571e68",
   "metadata": {},
   "outputs": [],
   "source": [
    "fig, axs = plt.subplots(3, 1, figsize=(10, 16))\n",
    "fig.tight_layout()\n",
    "for i in range(4, 7):\n",
    "    ax = axs.flat[i-4]\n",
    "    wm = withmeans[i]\n",
    "    ws = withstds[i]\n",
    "    wom = withoutmeans[i]\n",
    "    wos = withoutstds[i]\n",
    "    ax.bar(spc, wm.ftest, width=w, label=\"With intercept (test)\", edgecolor=\"k\", yerr=ws.ftest, error_kw=errstyle)\n",
    "    ax.bar(spc, wm.ftrain, width=w, label=\"With intercept (train)\", edgecolor=\"k\", yerr=ws.ftrain, alpha=0.1, error_kw=errstyletr)\n",
    "    ax.bar(spc + w, wom.ftest, width=w, label=\"Without intercept (test)\", edgecolor=\"k\", yerr=wos.ftest, error_kw=errstyle)\n",
    "    ax.bar(spc + w, wom.ftrain, width=w, label=\"Without intercept (train)\", edgecolor=\"k\", yerr=wos.ftrain, alpha=0.1, error_kw=errstyletr)\n",
    "    ax.legend(loc=\"lower left\")\n",
    "    ax.set_xticks(spc + w / 2, nclass)\n",
    "    sps = ax.get_subplotspec()\n",
    "    if sps.is_last_row(): ax.set_xlabel(\"Dataset (#classes)\", fontsize=18)\n",
    "    ax.set_ylabel(\"$F_1$-score (mean $\\pm$ stdev)\", fontsize=18)\n",
    "    ax.set_title(regressor_names[i])\n",
    "\n",
    "plt.subplots_adjust(top=0.92, hspace=0.20)\n",
    "fig.suptitle(\"F1-scores of FS methods with vs without intercept\\n(part 2 of 2)\", fontsize=22)"
   ]
  },
  {
   "cell_type": "code",
   "execution_count": null,
   "id": "ce947cad",
   "metadata": {},
   "outputs": [],
   "source": [
    "diffs = []\n",
    "for i in range(len(regressors)):\n",
    "    reg = regressors[i]\n",
    "    row = []\n",
    "    for dataset in datasets:\n",
    "        withf1 = withi[i][withi[i].dataset == dataset].ftest\n",
    "        withoutf1 = withouti[i][withouti[i].dataset == dataset].ftest\n",
    "        stat, pval = ttest_rel(withf1, withoutf1)\n",
    "        if stat == 0 or np.isnan(stat):\n",
    "            row.append(\"equal\")\n",
    "        elif stat > 0:\n",
    "            row.append(f\"with, {pval < 0.05}\")\n",
    "        else:\n",
    "            row.append(f\"without, {pval < 0.05}\")\n",
    "    diffs.append(row)\n",
    "\n",
    "diffdf = pd.DataFrame(diffs, index=regressors, columns=datasets)\n",
    "diffdf.to_csv(\"intercept_diffs.csv\")"
   ]
  }
 ],
 "metadata": {
  "kernelspec": {
   "display_name": "Python 3 (ipykernel)",
   "language": "python",
   "name": "python3"
  },
  "language_info": {
   "codemirror_mode": {
    "name": "ipython",
    "version": 3
   },
   "file_extension": ".py",
   "mimetype": "text/x-python",
   "name": "python",
   "nbconvert_exporter": "python",
   "pygments_lexer": "ipython3",
   "version": "3.9.7"
  }
 },
 "nbformat": 4,
 "nbformat_minor": 5
}

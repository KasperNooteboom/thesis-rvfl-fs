{
 "cells": [
  {
   "cell_type": "code",
   "execution_count": null,
   "metadata": {},
   "outputs": [],
   "source": [
    "from matplotlib.colors import LinearSegmentedColormap\n",
    "from statistics import median, stdev\n",
    "import pandas as pd\n",
    "import matplotlib.pyplot as plt\n",
    "import numpy as np\n",
    "%matplotlib inline\n",
    "\n",
    "%reload_ext autoreload\n",
    "%autoreload 2"
   ]
  },
  {
   "cell_type": "code",
   "execution_count": null,
   "metadata": {},
   "outputs": [],
   "source": [
    "datasets = [\"abalone\", \"adult\", \"cancer\", \"card\", \"covtype\", \"gene\", \"glass\", \"heart\", \"horse\", \"madelon\", \"optdigits\", \"page-blocks\", \"pendigits\", \"poker\", \"satimage\", \"segmentation\", \"shuttle\", \"soybean\", \"spect\", \"thyroid\", \"vehicle\", \"waveform\"]\n",
    "lambdas = np.concatenate(([0.1], np.linspace(0.5, 10, 20)))"
   ]
  },
  {
   "cell_type": "code",
   "execution_count": null,
   "metadata": {},
   "outputs": [],
   "source": [
    "df = pd.read_csv(f\"../../log/prelim_l1l2hyper/l1l2hyper.txt\")"
   ]
  },
  {
   "cell_type": "code",
   "execution_count": null,
   "metadata": {},
   "outputs": [],
   "source": [
    "tobedf = []\n",
    "for dataset in datasets:\n",
    "    ddf = df[df.dataset == dataset]\n",
    "    g = ddf.groupby(\"lambda\")[\"ftest\"].apply(list).reset_index(name=\"ftest\").ftest.tolist()\n",
    "    medians = [median(row) for row in g]\n",
    "    maxval = max(medians)\n",
    "    maxind = medians.index(maxval)\n",
    "    maxlamb = lambdas[maxind]\n",
    "    tobedf.append([dataset, maxlamb, str(round(maxval, 3))])\n",
    "\n",
    "resultdf = pd.DataFrame(tobedf, columns=[\"dataset\", \"best_lamb\", \"f1_best_lamb\"])\n",
    "resultdf.to_csv(\"l1l2hyper.csv\")"
   ]
  },
  {
   "cell_type": "code",
   "execution_count": null,
   "metadata": {},
   "outputs": [],
   "source": [
    "fig, axs = plt.subplots(3, 3, figsize=(14, 14))\n",
    "fig.tight_layout()\n",
    "plt.rcParams.update({\"font.size\": 13})\n",
    "boxprops = dict(color=\"b\")\n",
    "flierprops = dict(markeredgecolor=\"#D3691D\", markersize=5)\n",
    "medianprops = dict(color=\"darkred\")\n",
    "whiskerprops = dict(color=\"b\")\n",
    "axi = 0\n",
    "for dataset in datasets[0:9]:\n",
    "    ax = axs.flat[axi]\n",
    "    ddf = df[df.dataset == dataset]\n",
    "    g = ddf.groupby(\"lambda\")[\"ftest\"].apply(list).reset_index(name=\"ftest\").ftest.tolist()\n",
    "    bp = ax.boxplot(g, sym=\".\", boxprops=boxprops, medianprops=medianprops, whiskerprops=whiskerprops, flierprops=flierprops, patch_artist=True)\n",
    "    for box in bp[\"boxes\"]: box.set_facecolor(\"azure\")\n",
    "    ax.set_xticklabels(lambdas, rotation=\"vertical\")\n",
    "    ax.set_title(f\"{dataset} dataset\", fontsize=14)\n",
    "    ax.grid(True, color=\"#DDDDDD\")\n",
    "    sps = ax.get_subplotspec()\n",
    "    if sps.is_first_col(): ax.set_ylabel(\"$F_1$-score\")\n",
    "    if sps.is_last_row(): ax.set_xlabel(\"$\\lambda$\")\n",
    "    axi += 1\n",
    "fig.suptitle(\"$F_1$-scores per $\\lambda$ value in L1L2 for each dataset (part 1 of 3)\", fontsize=24)\n",
    "fig.subplots_adjust(top=0.93, hspace=0.2)"
   ]
  },
  {
   "cell_type": "code",
   "execution_count": null,
   "metadata": {},
   "outputs": [],
   "source": [
    "fig, axs = plt.subplots(3, 3, figsize=(14, 14))\n",
    "fig.tight_layout()\n",
    "plt.rcParams.update({\"font.size\": 13})\n",
    "axi = 0\n",
    "for dataset in datasets[9:18]:\n",
    "    ax = axs.flat[axi]\n",
    "    ddf = df[df.dataset == dataset]\n",
    "    g = ddf.groupby(\"lambda\")[\"ftest\"].apply(list).reset_index(name=\"ftest\").ftest.tolist()\n",
    "    bp = ax.boxplot(g, sym=\".\", boxprops=boxprops, medianprops=medianprops, whiskerprops=whiskerprops, flierprops=flierprops, patch_artist=True)\n",
    "    for box in bp[\"boxes\"]: box.set_facecolor(\"azure\")\n",
    "    ax.set_xticklabels(lambdas, rotation=\"vertical\")\n",
    "    ax.set_title(f\"{dataset} dataset\", fontsize=14)\n",
    "    ax.grid(True, color=\"#DDDDDD\")\n",
    "    sps = ax.get_subplotspec()\n",
    "    if sps.is_first_col(): ax.set_ylabel(\"$F_1$-score\")\n",
    "    if sps.is_last_row(): ax.set_xlabel(\"$\\lambda$\")\n",
    "    axi += 1\n",
    "fig.suptitle(\"$F_1$-scores per $\\lambda$ value in L1L2 for each dataset (part 2 of 3)\", fontsize=24)\n",
    "fig.subplots_adjust(top=0.93, hspace=0.2)"
   ]
  },
  {
   "cell_type": "code",
   "execution_count": null,
   "metadata": {},
   "outputs": [],
   "source": [
    "fig, axs = plt.subplots(2, 2, figsize=(10, 10))\n",
    "fig.tight_layout()\n",
    "plt.rcParams.update({\"font.size\": 13})\n",
    "axi = 0\n",
    "for dataset in datasets[18:22]:\n",
    "    ax = axs.flat[axi]\n",
    "    ddf = df[df.dataset == dataset]\n",
    "    g = ddf.groupby(\"lambda\")[\"ftest\"].apply(list).reset_index(name=\"ftest\").ftest.tolist()\n",
    "    bp = ax.boxplot(g, sym=\".\", boxprops=boxprops, medianprops=medianprops, whiskerprops=whiskerprops, flierprops=flierprops, patch_artist=True)\n",
    "    for box in bp[\"boxes\"]: box.set_facecolor(\"azure\")\n",
    "    ax.set_xticklabels(lambdas, rotation=\"vertical\")\n",
    "    ax.set_title(f\"{dataset} dataset\", fontsize=14)\n",
    "    ax.grid(True, color=\"#DDDDDD\")\n",
    "    sps = ax.get_subplotspec()\n",
    "    if sps.is_first_col(): ax.set_ylabel(\"$F_1$-score\")\n",
    "    if sps.is_last_row(): ax.set_xlabel(\"$\\lambda$\")\n",
    "    axi += 1\n",
    "fig.suptitle(\"$F_1$-scores per $\\lambda$ value in L1L2 for each dataset (part 3 of 3)\", fontsize=24)\n",
    "fig.subplots_adjust(top=0.91, hspace=0.2)"
   ]
  }
 ],
 "metadata": {
  "interpreter": {
   "hash": "e16405ff3594d9df4eff381a91203261a2c8ac0a788c430eaec049224add292e"
  },
  "kernelspec": {
   "display_name": "Python 3.8.5 ('pycharm')",
   "language": "python",
   "name": "python3"
  },
  "language_info": {
   "codemirror_mode": {
    "name": "ipython",
    "version": 3
   },
   "file_extension": ".py",
   "mimetype": "text/x-python",
   "name": "python",
   "nbconvert_exporter": "python",
   "pygments_lexer": "ipython3",
   "version": "3.9.7"
  },
  "orig_nbformat": 4
 },
 "nbformat": 4,
 "nbformat_minor": 2
}
